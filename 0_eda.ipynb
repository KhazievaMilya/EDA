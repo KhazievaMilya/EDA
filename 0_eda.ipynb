{
 "cells": [
  {
   "cell_type": "code",
   "execution_count": 1,
   "metadata": {
    "id": "GCsCcJ9h0Knv",
    "scrolled": true
   },
   "outputs": [],
   "source": [
    "import numpy as np\n",
    "import pandas as pd\n",
    "import seaborn as sns\n",
    "import matplotlib.pyplot as plt\n",
    "%matplotlib inline\n",
    "import scipy"
   ]
  },
  {
   "cell_type": "code",
   "execution_count": 2,
   "metadata": {
    "id": "SKLvJBk-0Kny"
   },
   "outputs": [],
   "source": [
    "df_orders = pd.read_csv('data_orders.csv')"
   ]
  },
  {
   "cell_type": "code",
   "execution_count": 3,
   "metadata": {
    "id": "xawxAZ5M5oqz"
   },
   "outputs": [],
   "source": [
    "df_offers = pd.read_csv('data_offers.csv')"
   ]
  },
  {
   "cell_type": "code",
   "execution_count": 4,
   "metadata": {
    "colab": {
     "base_uri": "https://localhost:8080/",
     "height": 206
    },
    "executionInfo": {
     "elapsed": 395,
     "status": "ok",
     "timestamp": 1650097193912,
     "user": {
      "displayName": "мое имя",
      "userId": "04682591971747797754"
     },
     "user_tz": -180
    },
    "id": "5iF2gp0O1sHQ",
    "outputId": "7ae9bde0-c9d2-428e-90f7-b872b0cab6c3"
   },
   "outputs": [
    {
     "data": {
      "text/html": [
       "<div>\n",
       "<style scoped>\n",
       "    .dataframe tbody tr th:only-of-type {\n",
       "        vertical-align: middle;\n",
       "    }\n",
       "\n",
       "    .dataframe tbody tr th {\n",
       "        vertical-align: top;\n",
       "    }\n",
       "\n",
       "    .dataframe thead th {\n",
       "        text-align: right;\n",
       "    }\n",
       "</style>\n",
       "<table border=\"1\" class=\"dataframe\">\n",
       "  <thead>\n",
       "    <tr style=\"text-align: right;\">\n",
       "      <th></th>\n",
       "      <th>order_datetime</th>\n",
       "      <th>order_gk</th>\n",
       "      <th>order_status_key</th>\n",
       "      <th>is_courier_assigned_key</th>\n",
       "      <th>cancellations_time_in_seconds</th>\n",
       "    </tr>\n",
       "  </thead>\n",
       "  <tbody>\n",
       "    <tr>\n",
       "      <th>0</th>\n",
       "      <td>2020-07-22 18:08:07</td>\n",
       "      <td>3000583041974</td>\n",
       "      <td>4</td>\n",
       "      <td>1</td>\n",
       "      <td>198.0</td>\n",
       "    </tr>\n",
       "    <tr>\n",
       "      <th>1</th>\n",
       "      <td>2020-07-22 20:57:32</td>\n",
       "      <td>3000583116437</td>\n",
       "      <td>4</td>\n",
       "      <td>0</td>\n",
       "      <td>128.0</td>\n",
       "    </tr>\n",
       "    <tr>\n",
       "      <th>2</th>\n",
       "      <td>2020-07-22 12:07:50</td>\n",
       "      <td>3000582891479</td>\n",
       "      <td>4</td>\n",
       "      <td>1</td>\n",
       "      <td>46.0</td>\n",
       "    </tr>\n",
       "    <tr>\n",
       "      <th>3</th>\n",
       "      <td>2020-07-22 13:50:20</td>\n",
       "      <td>3000582941169</td>\n",
       "      <td>4</td>\n",
       "      <td>1</td>\n",
       "      <td>62.0</td>\n",
       "    </tr>\n",
       "    <tr>\n",
       "      <th>4</th>\n",
       "      <td>2020-07-22 21:24:45</td>\n",
       "      <td>3000583140877</td>\n",
       "      <td>9</td>\n",
       "      <td>0</td>\n",
       "      <td>NaN</td>\n",
       "    </tr>\n",
       "  </tbody>\n",
       "</table>\n",
       "</div>"
      ],
      "text/plain": [
       "        order_datetime       order_gk  order_status_key  \\\n",
       "0  2020-07-22 18:08:07  3000583041974                 4   \n",
       "1  2020-07-22 20:57:32  3000583116437                 4   \n",
       "2  2020-07-22 12:07:50  3000582891479                 4   \n",
       "3  2020-07-22 13:50:20  3000582941169                 4   \n",
       "4  2020-07-22 21:24:45  3000583140877                 9   \n",
       "\n",
       "   is_courier_assigned_key  cancellations_time_in_seconds  \n",
       "0                        1                          198.0  \n",
       "1                        0                          128.0  \n",
       "2                        1                           46.0  \n",
       "3                        1                           62.0  \n",
       "4                        0                            NaN  "
      ]
     },
     "execution_count": 4,
     "metadata": {},
     "output_type": "execute_result"
    }
   ],
   "source": [
    "df_orders.head()"
   ]
  },
  {
   "cell_type": "code",
   "execution_count": 5,
   "metadata": {
    "colab": {
     "base_uri": "https://localhost:8080/",
     "height": 206
    },
    "executionInfo": {
     "elapsed": 296,
     "status": "ok",
     "timestamp": 1650097198796,
     "user": {
      "displayName": "мое имя",
      "userId": "04682591971747797754"
     },
     "user_tz": -180
    },
    "id": "sOhu_MzW50wk",
    "outputId": "a242a9df-bac5-4be6-b0f3-a13b882000c7"
   },
   "outputs": [
    {
     "data": {
      "text/html": [
       "<div>\n",
       "<style scoped>\n",
       "    .dataframe tbody tr th:only-of-type {\n",
       "        vertical-align: middle;\n",
       "    }\n",
       "\n",
       "    .dataframe tbody tr th {\n",
       "        vertical-align: top;\n",
       "    }\n",
       "\n",
       "    .dataframe thead th {\n",
       "        text-align: right;\n",
       "    }\n",
       "</style>\n",
       "<table border=\"1\" class=\"dataframe\">\n",
       "  <thead>\n",
       "    <tr style=\"text-align: right;\">\n",
       "      <th></th>\n",
       "      <th>order_gk</th>\n",
       "      <th>offer_id</th>\n",
       "    </tr>\n",
       "  </thead>\n",
       "  <tbody>\n",
       "    <tr>\n",
       "      <th>0</th>\n",
       "      <td>3000579625629</td>\n",
       "      <td>300050936206</td>\n",
       "    </tr>\n",
       "    <tr>\n",
       "      <th>1</th>\n",
       "      <td>3000627306450</td>\n",
       "      <td>300052064651</td>\n",
       "    </tr>\n",
       "    <tr>\n",
       "      <th>2</th>\n",
       "      <td>3000632920686</td>\n",
       "      <td>300052408812</td>\n",
       "    </tr>\n",
       "    <tr>\n",
       "      <th>3</th>\n",
       "      <td>3000632771725</td>\n",
       "      <td>300052393030</td>\n",
       "    </tr>\n",
       "    <tr>\n",
       "      <th>4</th>\n",
       "      <td>3000583467642</td>\n",
       "      <td>300051001196</td>\n",
       "    </tr>\n",
       "  </tbody>\n",
       "</table>\n",
       "</div>"
      ],
      "text/plain": [
       "        order_gk      offer_id\n",
       "0  3000579625629  300050936206\n",
       "1  3000627306450  300052064651\n",
       "2  3000632920686  300052408812\n",
       "3  3000632771725  300052393030\n",
       "4  3000583467642  300051001196"
      ]
     },
     "execution_count": 5,
     "metadata": {},
     "output_type": "execute_result"
    }
   ],
   "source": [
    "df_offers.head()"
   ]
  },
  {
   "cell_type": "code",
   "execution_count": 6,
   "metadata": {
    "colab": {
     "base_uri": "https://localhost:8080/"
    },
    "executionInfo": {
     "elapsed": 275,
     "status": "ok",
     "timestamp": 1650097215720,
     "user": {
      "displayName": "мое имя",
      "userId": "04682591971747797754"
     },
     "user_tz": -180
    },
    "id": "J3-qmqMu6zF_",
    "outputId": "3cbc184c-dbff-41c4-c34a-92da60588454"
   },
   "outputs": [
    {
     "name": "stdout",
     "output_type": "stream",
     "text": [
      "<class 'pandas.core.frame.DataFrame'>\n",
      "RangeIndex: 10716 entries, 0 to 10715\n",
      "Data columns (total 5 columns):\n",
      " #   Column                         Non-Null Count  Dtype  \n",
      "---  ------                         --------------  -----  \n",
      " 0   order_datetime                 10716 non-null  object \n",
      " 1   order_gk                       10716 non-null  int64  \n",
      " 2   order_status_key               10716 non-null  int64  \n",
      " 3   is_courier_assigned_key        10716 non-null  int64  \n",
      " 4   cancellations_time_in_seconds  7307 non-null   float64\n",
      "dtypes: float64(1), int64(3), object(1)\n",
      "memory usage: 418.7+ KB\n"
     ]
    }
   ],
   "source": [
    "df_orders.info()\n",
    "#в столбце cancellations_time_in_second присутствуют пустые значения"
   ]
  },
  {
   "cell_type": "code",
   "execution_count": 7,
   "metadata": {
    "colab": {
     "base_uri": "https://localhost:8080/"
    },
    "executionInfo": {
     "elapsed": 317,
     "status": "ok",
     "timestamp": 1650097218592,
     "user": {
      "displayName": "мое имя",
      "userId": "04682591971747797754"
     },
     "user_tz": -180
    },
    "id": "gUkWnxto65Vw",
    "outputId": "eae45cd9-894d-4951-f815-5ca72d2f4ed3"
   },
   "outputs": [
    {
     "name": "stdout",
     "output_type": "stream",
     "text": [
      "<class 'pandas.core.frame.DataFrame'>\n",
      "RangeIndex: 334363 entries, 0 to 334362\n",
      "Data columns (total 2 columns):\n",
      " #   Column    Non-Null Count   Dtype\n",
      "---  ------    --------------   -----\n",
      " 0   order_gk  334363 non-null  int64\n",
      " 1   offer_id  334363 non-null  int64\n",
      "dtypes: int64(2)\n",
      "memory usage: 5.1 MB\n"
     ]
    }
   ],
   "source": [
    "df_offers.info()"
   ]
  },
  {
   "cell_type": "code",
   "execution_count": 8,
   "metadata": {
    "colab": {
     "base_uri": "https://localhost:8080/"
    },
    "executionInfo": {
     "elapsed": 268,
     "status": "ok",
     "timestamp": 1650097246791,
     "user": {
      "displayName": "мое имя",
      "userId": "04682591971747797754"
     },
     "user_tz": -180
    },
    "id": "lPboMggT1sfC",
    "outputId": "759bfba7-4cff-4998-b75d-17c569cc1f32"
   },
   "outputs": [
    {
     "data": {
      "text/plain": [
       "0"
      ]
     },
     "execution_count": 8,
     "metadata": {},
     "output_type": "execute_result"
    }
   ],
   "source": [
    "df_orders.duplicated().sum()\n",
    "#дубликаты отсутсвуют в обоих датафреймах"
   ]
  },
  {
   "cell_type": "code",
   "execution_count": 9,
   "metadata": {
    "colab": {
     "base_uri": "https://localhost:8080/"
    },
    "executionInfo": {
     "elapsed": 411,
     "status": "ok",
     "timestamp": 1650097248895,
     "user": {
      "displayName": "мое имя",
      "userId": "04682591971747797754"
     },
     "user_tz": -180
    },
    "id": "0AYJwiho7gni",
    "outputId": "10b0e81d-5c99-4b56-fb16-c9729cb09178"
   },
   "outputs": [
    {
     "data": {
      "text/plain": [
       "0"
      ]
     },
     "execution_count": 9,
     "metadata": {},
     "output_type": "execute_result"
    }
   ],
   "source": [
    "df_offers.duplicated().sum()"
   ]
  },
  {
   "cell_type": "code",
   "execution_count": 10,
   "metadata": {
    "colab": {
     "base_uri": "https://localhost:8080/"
    },
    "executionInfo": {
     "elapsed": 312,
     "status": "ok",
     "timestamp": 1650097545423,
     "user": {
      "displayName": "мое имя",
      "userId": "04682591971747797754"
     },
     "user_tz": -180
    },
    "id": "FvGTX6EtjxP2",
    "outputId": "3dd8ede8-3cdb-46ea-9f93-d17b8b2146e2"
   },
   "outputs": [
    {
     "data": {
      "text/plain": [
       "order_datetime                    object\n",
       "order_gk                           int64\n",
       "order_status_key                   int64\n",
       "is_courier_assigned_key            int64\n",
       "cancellations_time_in_seconds    float64\n",
       "dtype: object"
      ]
     },
     "execution_count": 10,
     "metadata": {},
     "output_type": "execute_result"
    }
   ],
   "source": [
    "df_orders.dtypes"
   ]
  },
  {
   "cell_type": "code",
   "execution_count": 11,
   "metadata": {
    "id": "C1lZrTpJmJ15"
   },
   "outputs": [],
   "source": [
    "df_orders['order_datetime'] = pd.to_datetime(df_orders['order_datetime'])"
   ]
  },
  {
   "cell_type": "markdown",
   "metadata": {
    "id": "ZNjm8ZRWk_rd"
   },
   "source": [
    "Посмотрим, где именно присутствуют пустые значения"
   ]
  },
  {
   "cell_type": "code",
   "execution_count": 12,
   "metadata": {
    "id": "cfHdB8WNkxER"
   },
   "outputs": [],
   "source": [
    "null_val = df_orders.query('cancellations_time_in_seconds != cancellations_time_in_seconds')"
   ]
  },
  {
   "cell_type": "code",
   "execution_count": 13,
   "metadata": {
    "colab": {
     "base_uri": "https://localhost:8080/",
     "height": 206
    },
    "executionInfo": {
     "elapsed": 299,
     "status": "ok",
     "timestamp": 1650099390060,
     "user": {
      "displayName": "мое имя",
      "userId": "04682591971747797754"
     },
     "user_tz": -180
    },
    "id": "2Kk3va9ylGQS",
    "outputId": "8ec4cdb8-6baa-443a-8656-92f0b2c37d20"
   },
   "outputs": [
    {
     "data": {
      "text/html": [
       "<div>\n",
       "<style scoped>\n",
       "    .dataframe tbody tr th:only-of-type {\n",
       "        vertical-align: middle;\n",
       "    }\n",
       "\n",
       "    .dataframe tbody tr th {\n",
       "        vertical-align: top;\n",
       "    }\n",
       "\n",
       "    .dataframe thead th {\n",
       "        text-align: right;\n",
       "    }\n",
       "</style>\n",
       "<table border=\"1\" class=\"dataframe\">\n",
       "  <thead>\n",
       "    <tr style=\"text-align: right;\">\n",
       "      <th></th>\n",
       "      <th>order_datetime</th>\n",
       "      <th>order_gk</th>\n",
       "      <th>order_status_key</th>\n",
       "      <th>is_courier_assigned_key</th>\n",
       "      <th>cancellations_time_in_seconds</th>\n",
       "    </tr>\n",
       "  </thead>\n",
       "  <tbody>\n",
       "    <tr>\n",
       "      <th>4</th>\n",
       "      <td>2020-07-22 21:24:45</td>\n",
       "      <td>3000583140877</td>\n",
       "      <td>9</td>\n",
       "      <td>0</td>\n",
       "      <td>NaN</td>\n",
       "    </tr>\n",
       "    <tr>\n",
       "      <th>5</th>\n",
       "      <td>2020-07-22 21:21:23</td>\n",
       "      <td>3000583117054</td>\n",
       "      <td>9</td>\n",
       "      <td>0</td>\n",
       "      <td>NaN</td>\n",
       "    </tr>\n",
       "    <tr>\n",
       "      <th>6</th>\n",
       "      <td>2020-07-22 07:58:15</td>\n",
       "      <td>3000582791789</td>\n",
       "      <td>9</td>\n",
       "      <td>0</td>\n",
       "      <td>NaN</td>\n",
       "    </tr>\n",
       "    <tr>\n",
       "      <th>7</th>\n",
       "      <td>2020-07-22 07:53:46</td>\n",
       "      <td>3000582791562</td>\n",
       "      <td>9</td>\n",
       "      <td>0</td>\n",
       "      <td>NaN</td>\n",
       "    </tr>\n",
       "    <tr>\n",
       "      <th>8</th>\n",
       "      <td>2020-07-22 08:53:01</td>\n",
       "      <td>3000582817606</td>\n",
       "      <td>9</td>\n",
       "      <td>0</td>\n",
       "      <td>NaN</td>\n",
       "    </tr>\n",
       "  </tbody>\n",
       "</table>\n",
       "</div>"
      ],
      "text/plain": [
       "       order_datetime       order_gk  order_status_key  \\\n",
       "4 2020-07-22 21:24:45  3000583140877                 9   \n",
       "5 2020-07-22 21:21:23  3000583117054                 9   \n",
       "6 2020-07-22 07:58:15  3000582791789                 9   \n",
       "7 2020-07-22 07:53:46  3000582791562                 9   \n",
       "8 2020-07-22 08:53:01  3000582817606                 9   \n",
       "\n",
       "   is_courier_assigned_key  cancellations_time_in_seconds  \n",
       "4                        0                            NaN  \n",
       "5                        0                            NaN  \n",
       "6                        0                            NaN  \n",
       "7                        0                            NaN  \n",
       "8                        0                            NaN  "
      ]
     },
     "execution_count": 13,
     "metadata": {},
     "output_type": "execute_result"
    }
   ],
   "source": [
    "null_val.head()"
   ]
  },
  {
   "cell_type": "code",
   "execution_count": 14,
   "metadata": {
    "colab": {
     "base_uri": "https://localhost:8080/"
    },
    "executionInfo": {
     "elapsed": 283,
     "status": "ok",
     "timestamp": 1650099587400,
     "user": {
      "displayName": "мое имя",
      "userId": "04682591971747797754"
     },
     "user_tz": -180
    },
    "id": "ugLJ6E0vmR18",
    "outputId": "ef6939af-5d92-4834-d427-37fc689a0b60"
   },
   "outputs": [
    {
     "data": {
      "text/plain": [
       "9    3409\n",
       "Name: order_status_key, dtype: int64"
      ]
     },
     "execution_count": 14,
     "metadata": {},
     "output_type": "execute_result"
    }
   ],
   "source": [
    "null_val['order_status_key'].value_counts()\n",
    "#нулевые значение только в строках со статусом 9 "
   ]
  },
  {
   "cell_type": "code",
   "execution_count": 15,
   "metadata": {
    "colab": {
     "base_uri": "https://localhost:8080/"
    },
    "executionInfo": {
     "elapsed": 282,
     "status": "ok",
     "timestamp": 1650099602964,
     "user": {
      "displayName": "мое имя",
      "userId": "04682591971747797754"
     },
     "user_tz": -180
    },
    "id": "5rUqAGYmmak5",
    "outputId": "d42c6e15-998e-41d7-fe8e-58a63dff2749"
   },
   "outputs": [
    {
     "data": {
      "text/plain": [
       "0    3406\n",
       "1       3\n",
       "Name: is_courier_assigned_key, dtype: int64"
      ]
     },
     "execution_count": 15,
     "metadata": {},
     "output_type": "execute_result"
    }
   ],
   "source": [
    "null_val['is_courier_assigned_key'].value_counts()"
   ]
  },
  {
   "cell_type": "code",
   "execution_count": 16,
   "metadata": {
    "colab": {
     "base_uri": "https://localhost:8080/"
    },
    "executionInfo": {
     "elapsed": 295,
     "status": "ok",
     "timestamp": 1650099773463,
     "user": {
      "displayName": "мое имя",
      "userId": "04682591971747797754"
     },
     "user_tz": -180
    },
    "id": "tsjJcYgMm7LH",
    "outputId": "415f74d3-bf1c-443c-bb07-c6868f472ccd"
   },
   "outputs": [
    {
     "data": {
      "text/plain": [
       "4    7307\n",
       "9    3409\n",
       "Name: order_status_key, dtype: int64"
      ]
     },
     "execution_count": 16,
     "metadata": {},
     "output_type": "execute_result"
    }
   ],
   "source": [
    "df_orders['order_status_key'].value_counts()\n",
    "#видим, что все значения, со статусом 9 имеют нулевые значения, возможно был сбой в системе"
   ]
  },
  {
   "cell_type": "markdown",
   "metadata": {
    "id": "A7__tm_gnWU6"
   },
   "source": [
    "Посмотрим, сбой в системе произошел только в вычислении времени до отмены заказа, или так же в назначении курьера"
   ]
  },
  {
   "cell_type": "code",
   "execution_count": 17,
   "metadata": {
    "colab": {
     "base_uri": "https://localhost:8080/"
    },
    "executionInfo": {
     "elapsed": 549,
     "status": "ok",
     "timestamp": 1649743743636,
     "user": {
      "displayName": "мое имя",
      "userId": "04682591971747797754"
     },
     "user_tz": -300
    },
    "id": "39AVnekg0KoD",
    "outputId": "ed81d3b2-13f5-4348-addd-b0147a7887be"
   },
   "outputs": [
    {
     "data": {
      "text/plain": [
       "0    0.99912\n",
       "1    0.00088\n",
       "Name: is_courier_assigned_key, dtype: float64"
      ]
     },
     "execution_count": 17,
     "metadata": {},
     "output_type": "execute_result"
    }
   ],
   "source": [
    "df_orders.query('order_status_key == 9').is_courier_assigned_key.value_counts(normalize=True)\n",
    "#доля заказов, для которых был назначен курьер, в отмененных системой, составляет меньше 1%\n",
    "#скорее всего сбой в системе связан и с этой аномалией "
   ]
  },
  {
   "cell_type": "markdown",
   "metadata": {
    "id": "3shaMT6VuaHB"
   },
   "source": [
    "Объединим датафрейм с нулевыми значениями с датафреймом df_offers"
   ]
  },
  {
   "cell_type": "code",
   "execution_count": 18,
   "metadata": {
    "colab": {
     "base_uri": "https://localhost:8080/",
     "height": 424
    },
    "executionInfo": {
     "elapsed": 301,
     "status": "ok",
     "timestamp": 1650101590107,
     "user": {
      "displayName": "мое имя",
      "userId": "04682591971747797754"
     },
     "user_tz": -180
    },
    "id": "1Fh8c1ZZnndV",
    "outputId": "d6fe626d-87ca-4a8e-91ba-debe18d1e5fd"
   },
   "outputs": [
    {
     "data": {
      "text/html": [
       "<div>\n",
       "<style scoped>\n",
       "    .dataframe tbody tr th:only-of-type {\n",
       "        vertical-align: middle;\n",
       "    }\n",
       "\n",
       "    .dataframe tbody tr th {\n",
       "        vertical-align: top;\n",
       "    }\n",
       "\n",
       "    .dataframe thead th {\n",
       "        text-align: right;\n",
       "    }\n",
       "</style>\n",
       "<table border=\"1\" class=\"dataframe\">\n",
       "  <thead>\n",
       "    <tr style=\"text-align: right;\">\n",
       "      <th></th>\n",
       "      <th>order_datetime</th>\n",
       "      <th>order_gk</th>\n",
       "      <th>order_status_key</th>\n",
       "      <th>is_courier_assigned_key</th>\n",
       "      <th>cancellations_time_in_seconds</th>\n",
       "      <th>offer_id</th>\n",
       "    </tr>\n",
       "  </thead>\n",
       "  <tbody>\n",
       "    <tr>\n",
       "      <th>0</th>\n",
       "      <td>2020-07-22 21:24:45</td>\n",
       "      <td>3000583140877</td>\n",
       "      <td>9</td>\n",
       "      <td>0</td>\n",
       "      <td>NaN</td>\n",
       "      <td>NaN</td>\n",
       "    </tr>\n",
       "    <tr>\n",
       "      <th>1</th>\n",
       "      <td>2020-07-22 21:21:23</td>\n",
       "      <td>3000583117054</td>\n",
       "      <td>9</td>\n",
       "      <td>0</td>\n",
       "      <td>NaN</td>\n",
       "      <td>3.000510e+11</td>\n",
       "    </tr>\n",
       "    <tr>\n",
       "      <th>2</th>\n",
       "      <td>2020-07-22 21:21:23</td>\n",
       "      <td>3000583117054</td>\n",
       "      <td>9</td>\n",
       "      <td>0</td>\n",
       "      <td>NaN</td>\n",
       "      <td>3.000510e+11</td>\n",
       "    </tr>\n",
       "    <tr>\n",
       "      <th>3</th>\n",
       "      <td>2020-07-22 21:21:23</td>\n",
       "      <td>3000583117054</td>\n",
       "      <td>9</td>\n",
       "      <td>0</td>\n",
       "      <td>NaN</td>\n",
       "      <td>3.000510e+11</td>\n",
       "    </tr>\n",
       "    <tr>\n",
       "      <th>4</th>\n",
       "      <td>2020-07-22 21:21:23</td>\n",
       "      <td>3000583117054</td>\n",
       "      <td>9</td>\n",
       "      <td>0</td>\n",
       "      <td>NaN</td>\n",
       "      <td>3.000510e+11</td>\n",
       "    </tr>\n",
       "    <tr>\n",
       "      <th>...</th>\n",
       "      <td>...</td>\n",
       "      <td>...</td>\n",
       "      <td>...</td>\n",
       "      <td>...</td>\n",
       "      <td>...</td>\n",
       "      <td>...</td>\n",
       "    </tr>\n",
       "    <tr>\n",
       "      <th>10972</th>\n",
       "      <td>2020-07-22 08:04:58</td>\n",
       "      <td>3000554721763</td>\n",
       "      <td>9</td>\n",
       "      <td>0</td>\n",
       "      <td>NaN</td>\n",
       "      <td>NaN</td>\n",
       "    </tr>\n",
       "    <tr>\n",
       "      <th>10973</th>\n",
       "      <td>2020-07-22 08:08:36</td>\n",
       "      <td>3000554721897</td>\n",
       "      <td>9</td>\n",
       "      <td>0</td>\n",
       "      <td>NaN</td>\n",
       "      <td>3.000507e+11</td>\n",
       "    </tr>\n",
       "    <tr>\n",
       "      <th>10974</th>\n",
       "      <td>2020-07-22 08:08:36</td>\n",
       "      <td>3000554721897</td>\n",
       "      <td>9</td>\n",
       "      <td>0</td>\n",
       "      <td>NaN</td>\n",
       "      <td>3.000507e+11</td>\n",
       "    </tr>\n",
       "    <tr>\n",
       "      <th>10975</th>\n",
       "      <td>2020-07-22 23:33:46</td>\n",
       "      <td>3000555121226</td>\n",
       "      <td>9</td>\n",
       "      <td>0</td>\n",
       "      <td>NaN</td>\n",
       "      <td>NaN</td>\n",
       "    </tr>\n",
       "    <tr>\n",
       "      <th>10976</th>\n",
       "      <td>2020-07-22 20:57:37</td>\n",
       "      <td>3000555046587</td>\n",
       "      <td>9</td>\n",
       "      <td>0</td>\n",
       "      <td>NaN</td>\n",
       "      <td>NaN</td>\n",
       "    </tr>\n",
       "  </tbody>\n",
       "</table>\n",
       "<p>10977 rows × 6 columns</p>\n",
       "</div>"
      ],
      "text/plain": [
       "           order_datetime       order_gk  order_status_key  \\\n",
       "0     2020-07-22 21:24:45  3000583140877                 9   \n",
       "1     2020-07-22 21:21:23  3000583117054                 9   \n",
       "2     2020-07-22 21:21:23  3000583117054                 9   \n",
       "3     2020-07-22 21:21:23  3000583117054                 9   \n",
       "4     2020-07-22 21:21:23  3000583117054                 9   \n",
       "...                   ...            ...               ...   \n",
       "10972 2020-07-22 08:04:58  3000554721763                 9   \n",
       "10973 2020-07-22 08:08:36  3000554721897                 9   \n",
       "10974 2020-07-22 08:08:36  3000554721897                 9   \n",
       "10975 2020-07-22 23:33:46  3000555121226                 9   \n",
       "10976 2020-07-22 20:57:37  3000555046587                 9   \n",
       "\n",
       "       is_courier_assigned_key  cancellations_time_in_seconds      offer_id  \n",
       "0                            0                            NaN           NaN  \n",
       "1                            0                            NaN  3.000510e+11  \n",
       "2                            0                            NaN  3.000510e+11  \n",
       "3                            0                            NaN  3.000510e+11  \n",
       "4                            0                            NaN  3.000510e+11  \n",
       "...                        ...                            ...           ...  \n",
       "10972                        0                            NaN           NaN  \n",
       "10973                        0                            NaN  3.000507e+11  \n",
       "10974                        0                            NaN  3.000507e+11  \n",
       "10975                        0                            NaN           NaN  \n",
       "10976                        0                            NaN           NaN  \n",
       "\n",
       "[10977 rows x 6 columns]"
      ]
     },
     "execution_count": 18,
     "metadata": {},
     "output_type": "execute_result"
    }
   ],
   "source": [
    "null_val.merge(df_offers, how='left')\n",
    "#почему-то таблица имеет больше строк, чем датафрейм с нулевыми значениями"
   ]
  },
  {
   "cell_type": "code",
   "execution_count": 19,
   "metadata": {
    "colab": {
     "base_uri": "https://localhost:8080/"
    },
    "executionInfo": {
     "elapsed": 275,
     "status": "ok",
     "timestamp": 1650101817677,
     "user": {
      "displayName": "мое имя",
      "userId": "04682591971747797754"
     },
     "user_tz": -180
    },
    "id": "qKRhWkScuulj",
    "outputId": "4c494e28-952e-417e-cf29-a9ec6b707fc9"
   },
   "outputs": [
    {
     "data": {
      "text/plain": [
       "3000622541299    9\n",
       "3000591156831    9\n",
       "3000592296546    9\n",
       "3000623018231    9\n",
       "3000582817158    9\n",
       "                ..\n",
       "3000599186936    1\n",
       "3000594272454    1\n",
       "3000628607809    1\n",
       "3000589832090    1\n",
       "3000557510943    1\n",
       "Name: order_gk, Length: 97967, dtype: int64"
      ]
     },
     "execution_count": 19,
     "metadata": {},
     "output_type": "execute_result"
    }
   ],
   "source": [
    "df_offers.order_gk.value_counts()\n",
    "#order_gk показывает номер заказа, а order_id - ID оффера, который был предложен курьеру по данному заказу\n",
    "#на один и тот же заказ могут быть назначены несколько ID оффера\n",
    "#я не знаю, какую информацию точно несет в себе столбец order_id, но я думаю, что он должен быть только один у каждого заказа\n",
    "#скорее всего здесь тоже есть какая-то ошибка"
   ]
  },
  {
   "cell_type": "markdown",
   "metadata": {
    "id": "eyvdx1-x6_e-"
   },
   "source": [
    "Т.к. в объединенной таблице можно было заметить, что на некоторые заказы были назначены ID офферов курьерам, а данные говорят о том, что курьеры не были назначены, то скорее всего преположение о том, что система не зафиксировала факт назначения курьера правильное"
   ]
  },
  {
   "cell_type": "markdown",
   "metadata": {
    "id": "RJHLIXnA7jYE"
   },
   "source": [
    "В таком случае посмотрим, для всех ли заказов, на которые был назначен курьер есть ID офферов"
   ]
  },
  {
   "cell_type": "code",
   "execution_count": 20,
   "metadata": {
    "colab": {
     "base_uri": "https://localhost:8080/"
    },
    "executionInfo": {
     "elapsed": 285,
     "status": "ok",
     "timestamp": 1650105266356,
     "user": {
      "displayName": "мое имя",
      "userId": "04682591971747797754"
     },
     "user_tz": -180
    },
    "id": "cwUHOXrx7sTM",
    "outputId": "1e8aee8c-ed5c-49b7-8495-5bde9928b1cc"
   },
   "outputs": [
    {
     "data": {
      "text/plain": [
       "order_datetime                     0\n",
       "order_gk                           0\n",
       "order_status_key                   0\n",
       "is_courier_assigned_key            0\n",
       "cancellations_time_in_seconds      5\n",
       "offer_id                         474\n",
       "dtype: int64"
      ]
     },
     "execution_count": 20,
     "metadata": {},
     "output_type": "execute_result"
    }
   ],
   "source": [
    "df_orders.query('is_courier_assigned_key == 1').merge(df_offers, how='left').isna().sum()\n",
    "#есть 474 заказа на которые не был назначени оффер курьерам"
   ]
  },
  {
   "cell_type": "code",
   "execution_count": 21,
   "metadata": {
    "colab": {
     "base_uri": "https://localhost:8080/"
    },
    "executionInfo": {
     "elapsed": 272,
     "status": "ok",
     "timestamp": 1650105896776,
     "user": {
      "displayName": "мое имя",
      "userId": "04682591971747797754"
     },
     "user_tz": -180
    },
    "id": "ezXhEpuV9WTq",
    "outputId": "883bf170-9017-4044-fe02-87040b8ef9d5"
   },
   "outputs": [
    {
     "data": {
      "text/plain": [
       "4    0.99789\n",
       "9    0.00211\n",
       "Name: order_status_key, dtype: float64"
      ]
     },
     "execution_count": 21,
     "metadata": {},
     "output_type": "execute_result"
    }
   ],
   "source": [
    "df_orders.query('is_courier_assigned_key == 1') \\\n",
    "  .merge(df_offers, how='left') \\\n",
    "  .query('offer_id != offer_id') \\\n",
    "  .order_status_key \\\n",
    "  .value_counts(normalize=True)\n",
    "#почти все заказы отменены покупателями"
   ]
  },
  {
   "cell_type": "markdown",
   "metadata": {
    "id": "8PdCzJS3AQLp"
   },
   "source": [
    "Построим гистограмму распределения времени до отмены"
   ]
  },
  {
   "cell_type": "code",
   "execution_count": 22,
   "metadata": {
    "colab": {
     "base_uri": "https://localhost:8080/",
     "height": 353
    },
    "executionInfo": {
     "elapsed": 1077,
     "status": "ok",
     "timestamp": 1650097784475,
     "user": {
      "displayName": "мое имя",
      "userId": "04682591971747797754"
     },
     "user_tz": -180
    },
    "id": "7HvTtwI5AWs1",
    "outputId": "bb6dcf01-4f03-435f-afb9-0d2c6ac3dc60"
   },
   "outputs": [
    {
     "name": "stderr",
     "output_type": "stream",
     "text": [
      "C:\\Users\\xazzz\\AppData\\Local\\Programs\\Python\\Python39\\lib\\site-packages\\seaborn\\distributions.py:2619: FutureWarning: `distplot` is a deprecated function and will be removed in a future version. Please adapt your code to use either `displot` (a figure-level function with similar flexibility) or `histplot` (an axes-level function for histograms).\n",
      "  warnings.warn(msg, FutureWarning)\n"
     ]
    },
    {
     "data": {
      "text/plain": [
       "<AxesSubplot:xlabel='cancellations_time_in_seconds'>"
      ]
     },
     "execution_count": 22,
     "metadata": {},
     "output_type": "execute_result"
    },
    {
     "data": {
      "image/png": "[encoded data removed]",
      "text/plain": [
       "<Figure size 432x288 with 1 Axes>"
      ]
     },
     "metadata": {
      "needs_background": "light"
     },
     "output_type": "display_data"
    }
   ],
   "source": [
    "sns.distplot(df_orders['cancellations_time_in_seconds'], kde = False)\n",
    "#видим заметные выбросы "
   ]
  },
  {
   "cell_type": "markdown",
   "metadata": {
    "id": "jr8xy9wVwXWS"
   },
   "source": [
    "Посмотрим на это распределение подобронее на ящике с усами"
   ]
  },
  {
   "cell_type": "code",
   "execution_count": 23,
   "metadata": {
    "colab": {
     "base_uri": "https://localhost:8080/",
     "height": 374
    },
    "executionInfo": {
     "elapsed": 830,
     "status": "ok",
     "timestamp": 1650099079101,
     "user": {
      "displayName": "мое имя",
      "userId": "04682591971747797754"
     },
     "user_tz": -180
    },
    "id": "TgQlvEHIjS1l",
    "outputId": "f634c495-2ba1-47cf-d40a-66c64513818a"
   },
   "outputs": [
    {
     "data": {
      "text/plain": [
       "<AxesSubplot:title={'center':'cancellations_time_in_seconds'}, xlabel='[order_status_key, is_courier_assigned_key]'>"
      ]
     },
     "execution_count": 23,
     "metadata": {},
     "output_type": "execute_result"
    },
    {
     "data": {
      "image/png": "[encoded data removed]",
      "text/plain": [
       "<Figure size 432x288 with 1 Axes>"
      ]
     },
     "metadata": {
      "needs_background": "light"
     },
     "output_type": "display_data"
    }
   ],
   "source": [
    "df_orders.boxplot(column='cancellations_time_in_seconds', by=['order_status_key', 'is_courier_assigned_key'])\n",
    "#видим, что для заказов, отмененных системой графики не построились, т.к. данных по времени для них нет\n",
    "#заметные выбросы присутствуют в обоих случаях для заказов, отмененных покупателями"
   ]
  },
  {
   "cell_type": "code",
   "execution_count": 24,
   "metadata": {
    "colab": {
     "base_uri": "https://localhost:8080/",
     "height": 352
    },
    "executionInfo": {
     "elapsed": 700,
     "status": "ok",
     "timestamp": 1650104801683,
     "user": {
      "displayName": "мое имя",
      "userId": "04682591971747797754"
     },
     "user_tz": -180
    },
    "id": "AyuxLU7c5ra5",
    "outputId": "b54ea37d-8b59-418e-8cb1-e9c7a4bab50d"
   },
   "outputs": [
    {
     "name": "stderr",
     "output_type": "stream",
     "text": [
      "C:\\Users\\xazzz\\AppData\\Local\\Programs\\Python\\Python39\\lib\\site-packages\\seaborn\\distributions.py:2619: FutureWarning: `distplot` is a deprecated function and will be removed in a future version. Please adapt your code to use either `displot` (a figure-level function with similar flexibility) or `histplot` (an axes-level function for histograms).\n",
      "  warnings.warn(msg, FutureWarning)\n"
     ]
    },
    {
     "data": {
      "text/plain": [
       "<AxesSubplot:xlabel='cancellations_time_in_seconds'>"
      ]
     },
     "execution_count": 24,
     "metadata": {},
     "output_type": "execute_result"
    },
    {
     "data": {
      "image/png": "[encoded data removed]",
      "text/plain": [
       "<Figure size 432x288 with 1 Axes>"
      ]
     },
     "metadata": {
      "needs_background": "light"
     },
     "output_type": "display_data"
    }
   ],
   "source": [
    "sns.distplot(df_orders.query('cancellations_time_in_seconds<300')['cancellations_time_in_seconds'], kde = False)\n",
    "#гистограмма без выбросов"
   ]
  },
  {
   "cell_type": "markdown",
   "metadata": {
    "id": "ZkdZp41Z6ULm"
   },
   "source": [
    "Среднее время отмены заказа без выбросов"
   ]
  },
  {
   "cell_type": "code",
   "execution_count": 25,
   "metadata": {
    "colab": {
     "base_uri": "https://localhost:8080/"
    },
    "executionInfo": {
     "elapsed": 281,
     "status": "ok",
     "timestamp": 1650104828237,
     "user": {
      "displayName": "мое имя",
      "userId": "04682591971747797754"
     },
     "user_tz": -180
    },
    "id": "Va3Ea6cc6Uio",
    "outputId": "3597440f-3a74-4efa-b7a4-8b57daa63f24"
   },
   "outputs": [
    {
     "data": {
      "text/plain": [
       "100.4320987654321"
      ]
     },
     "execution_count": 25,
     "metadata": {},
     "output_type": "execute_result"
    }
   ],
   "source": [
    "df_orders.query('cancellations_time_in_seconds<300')['cancellations_time_in_seconds'].mean()"
   ]
  },
  {
   "cell_type": "markdown",
   "metadata": {
    "id": "Hr8RSer90KoE"
   },
   "source": [
    "Посмотрим на среднее времени до отмены (cancellations_time_in_seconds) с назначенным курьером и без, по часам"
   ]
  },
  {
   "cell_type": "code",
   "execution_count": 26,
   "metadata": {
    "id": "uEe319Ornn7W"
   },
   "outputs": [],
   "source": [
    "df_orders['hour'] = df_orders.order_datetime.dt.hour"
   ]
  },
  {
   "cell_type": "code",
   "execution_count": 27,
   "metadata": {
    "id": "lz7jdvoyiTbQ"
   },
   "outputs": [],
   "source": [
    "hour = df_orders.groupby(['hour', 'order_status_key', 'is_courier_assigned_key'], as_index=False) \\\n",
    "          .agg({'order_gk': 'count'}) \\\n",
    "          .sort_values('hour')\n",
    "          #.pivot(index=['order_status_key', 'is_courier_assigned_key'], columns='hour', values='order_gk')"
   ]
  },
  {
   "cell_type": "code",
   "execution_count": 28,
   "metadata": {
    "colab": {
     "base_uri": "https://localhost:8080/",
     "height": 424
    },
    "executionInfo": {
     "elapsed": 306,
     "status": "ok",
     "timestamp": 1650103637595,
     "user": {
      "displayName": "мое имя",
      "userId": "04682591971747797754"
     },
     "user_tz": -180
    },
    "id": "TInPdIZ56pu-",
    "outputId": "7d2a3921-e419-4e0b-cbc2-2ce400e09dff"
   },
   "outputs": [
    {
     "data": {
      "text/html": [
       "<div>\n",
       "<style scoped>\n",
       "    .dataframe tbody tr th:only-of-type {\n",
       "        vertical-align: middle;\n",
       "    }\n",
       "\n",
       "    .dataframe tbody tr th {\n",
       "        vertical-align: top;\n",
       "    }\n",
       "\n",
       "    .dataframe thead th {\n",
       "        text-align: right;\n",
       "    }\n",
       "</style>\n",
       "<table border=\"1\" class=\"dataframe\">\n",
       "  <thead>\n",
       "    <tr style=\"text-align: right;\">\n",
       "      <th></th>\n",
       "      <th>hour</th>\n",
       "      <th>order_status_key</th>\n",
       "      <th>is_courier_assigned_key</th>\n",
       "      <th>order_gk</th>\n",
       "    </tr>\n",
       "  </thead>\n",
       "  <tbody>\n",
       "    <tr>\n",
       "      <th>0</th>\n",
       "      <td>0</td>\n",
       "      <td>4</td>\n",
       "      <td>0</td>\n",
       "      <td>298</td>\n",
       "    </tr>\n",
       "    <tr>\n",
       "      <th>1</th>\n",
       "      <td>0</td>\n",
       "      <td>4</td>\n",
       "      <td>1</td>\n",
       "      <td>120</td>\n",
       "    </tr>\n",
       "    <tr>\n",
       "      <th>2</th>\n",
       "      <td>0</td>\n",
       "      <td>9</td>\n",
       "      <td>0</td>\n",
       "      <td>263</td>\n",
       "    </tr>\n",
       "    <tr>\n",
       "      <th>3</th>\n",
       "      <td>0</td>\n",
       "      <td>9</td>\n",
       "      <td>1</td>\n",
       "      <td>2</td>\n",
       "    </tr>\n",
       "    <tr>\n",
       "      <th>4</th>\n",
       "      <td>1</td>\n",
       "      <td>4</td>\n",
       "      <td>0</td>\n",
       "      <td>219</td>\n",
       "    </tr>\n",
       "    <tr>\n",
       "      <th>...</th>\n",
       "      <td>...</td>\n",
       "      <td>...</td>\n",
       "      <td>...</td>\n",
       "      <td>...</td>\n",
       "    </tr>\n",
       "    <tr>\n",
       "      <th>69</th>\n",
       "      <td>22</td>\n",
       "      <td>4</td>\n",
       "      <td>1</td>\n",
       "      <td>149</td>\n",
       "    </tr>\n",
       "    <tr>\n",
       "      <th>70</th>\n",
       "      <td>22</td>\n",
       "      <td>9</td>\n",
       "      <td>0</td>\n",
       "      <td>241</td>\n",
       "    </tr>\n",
       "    <tr>\n",
       "      <th>72</th>\n",
       "      <td>23</td>\n",
       "      <td>4</td>\n",
       "      <td>1</td>\n",
       "      <td>156</td>\n",
       "    </tr>\n",
       "    <tr>\n",
       "      <th>71</th>\n",
       "      <td>23</td>\n",
       "      <td>4</td>\n",
       "      <td>0</td>\n",
       "      <td>378</td>\n",
       "    </tr>\n",
       "    <tr>\n",
       "      <th>73</th>\n",
       "      <td>23</td>\n",
       "      <td>9</td>\n",
       "      <td>0</td>\n",
       "      <td>302</td>\n",
       "    </tr>\n",
       "  </tbody>\n",
       "</table>\n",
       "<p>74 rows × 4 columns</p>\n",
       "</div>"
      ],
      "text/plain": [
       "    hour  order_status_key  is_courier_assigned_key  order_gk\n",
       "0      0                 4                        0       298\n",
       "1      0                 4                        1       120\n",
       "2      0                 9                        0       263\n",
       "3      0                 9                        1         2\n",
       "4      1                 4                        0       219\n",
       "..   ...               ...                      ...       ...\n",
       "69    22                 4                        1       149\n",
       "70    22                 9                        0       241\n",
       "72    23                 4                        1       156\n",
       "71    23                 4                        0       378\n",
       "73    23                 9                        0       302\n",
       "\n",
       "[74 rows x 4 columns]"
      ]
     },
     "execution_count": 28,
     "metadata": {},
     "output_type": "execute_result"
    }
   ],
   "source": [
    "hour"
   ]
  },
  {
   "cell_type": "code",
   "execution_count": 29,
   "metadata": {
    "id": "BoSWZgcI0KoF"
   },
   "outputs": [],
   "source": [
    "mean_hour = df_orders.groupby(['is_courier_assigned_key', 'hour'], as_index=False).agg({'cancellations_time_in_seconds': 'mean'})"
   ]
  },
  {
   "cell_type": "code",
   "execution_count": 30,
   "metadata": {
    "colab": {
     "base_uri": "https://localhost:8080/",
     "height": 1000
    },
    "executionInfo": {
     "elapsed": 652,
     "status": "ok",
     "timestamp": 1650103920529,
     "user": {
      "displayName": "мое имя",
      "userId": "04682591971747797754"
     },
     "user_tz": -180
    },
    "id": "MSF-N8jm2524",
    "outputId": "6e3cb653-4556-48e2-fc5a-6f8599405c70"
   },
   "outputs": [
    {
     "data": {
      "text/html": [
       "<div>\n",
       "<style scoped>\n",
       "    .dataframe tbody tr th:only-of-type {\n",
       "        vertical-align: middle;\n",
       "    }\n",
       "\n",
       "    .dataframe tbody tr th {\n",
       "        vertical-align: top;\n",
       "    }\n",
       "\n",
       "    .dataframe thead th {\n",
       "        text-align: right;\n",
       "    }\n",
       "</style>\n",
       "<table border=\"1\" class=\"dataframe\">\n",
       "  <thead>\n",
       "    <tr style=\"text-align: right;\">\n",
       "      <th></th>\n",
       "      <th>is_courier_assigned_key</th>\n",
       "      <th>hour</th>\n",
       "      <th>cancellations_time_in_seconds</th>\n",
       "    </tr>\n",
       "  </thead>\n",
       "  <tbody>\n",
       "    <tr>\n",
       "      <th>0</th>\n",
       "      <td>0</td>\n",
       "      <td>0</td>\n",
       "      <td>111.557047</td>\n",
       "    </tr>\n",
       "    <tr>\n",
       "      <th>1</th>\n",
       "      <td>0</td>\n",
       "      <td>1</td>\n",
       "      <td>98.132420</td>\n",
       "    </tr>\n",
       "    <tr>\n",
       "      <th>2</th>\n",
       "      <td>0</td>\n",
       "      <td>2</td>\n",
       "      <td>106.438819</td>\n",
       "    </tr>\n",
       "    <tr>\n",
       "      <th>3</th>\n",
       "      <td>0</td>\n",
       "      <td>3</td>\n",
       "      <td>104.361607</td>\n",
       "    </tr>\n",
       "    <tr>\n",
       "      <th>4</th>\n",
       "      <td>0</td>\n",
       "      <td>4</td>\n",
       "      <td>90.000000</td>\n",
       "    </tr>\n",
       "    <tr>\n",
       "      <th>5</th>\n",
       "      <td>0</td>\n",
       "      <td>5</td>\n",
       "      <td>121.800000</td>\n",
       "    </tr>\n",
       "    <tr>\n",
       "      <th>6</th>\n",
       "      <td>0</td>\n",
       "      <td>6</td>\n",
       "      <td>124.955224</td>\n",
       "    </tr>\n",
       "    <tr>\n",
       "      <th>7</th>\n",
       "      <td>0</td>\n",
       "      <td>7</td>\n",
       "      <td>112.628049</td>\n",
       "    </tr>\n",
       "    <tr>\n",
       "      <th>8</th>\n",
       "      <td>0</td>\n",
       "      <td>8</td>\n",
       "      <td>120.702179</td>\n",
       "    </tr>\n",
       "    <tr>\n",
       "      <th>9</th>\n",
       "      <td>0</td>\n",
       "      <td>9</td>\n",
       "      <td>120.000000</td>\n",
       "    </tr>\n",
       "    <tr>\n",
       "      <th>10</th>\n",
       "      <td>0</td>\n",
       "      <td>10</td>\n",
       "      <td>74.607843</td>\n",
       "    </tr>\n",
       "    <tr>\n",
       "      <th>11</th>\n",
       "      <td>0</td>\n",
       "      <td>11</td>\n",
       "      <td>77.945455</td>\n",
       "    </tr>\n",
       "    <tr>\n",
       "      <th>12</th>\n",
       "      <td>0</td>\n",
       "      <td>12</td>\n",
       "      <td>93.283019</td>\n",
       "    </tr>\n",
       "    <tr>\n",
       "      <th>13</th>\n",
       "      <td>0</td>\n",
       "      <td>13</td>\n",
       "      <td>103.993243</td>\n",
       "    </tr>\n",
       "    <tr>\n",
       "      <th>14</th>\n",
       "      <td>0</td>\n",
       "      <td>14</td>\n",
       "      <td>98.415094</td>\n",
       "    </tr>\n",
       "    <tr>\n",
       "      <th>15</th>\n",
       "      <td>0</td>\n",
       "      <td>15</td>\n",
       "      <td>114.639535</td>\n",
       "    </tr>\n",
       "    <tr>\n",
       "      <th>16</th>\n",
       "      <td>0</td>\n",
       "      <td>16</td>\n",
       "      <td>129.216783</td>\n",
       "    </tr>\n",
       "    <tr>\n",
       "      <th>17</th>\n",
       "      <td>0</td>\n",
       "      <td>17</td>\n",
       "      <td>111.533040</td>\n",
       "    </tr>\n",
       "    <tr>\n",
       "      <th>18</th>\n",
       "      <td>0</td>\n",
       "      <td>18</td>\n",
       "      <td>98.088608</td>\n",
       "    </tr>\n",
       "    <tr>\n",
       "      <th>19</th>\n",
       "      <td>0</td>\n",
       "      <td>19</td>\n",
       "      <td>112.522124</td>\n",
       "    </tr>\n",
       "    <tr>\n",
       "      <th>20</th>\n",
       "      <td>0</td>\n",
       "      <td>20</td>\n",
       "      <td>110.086957</td>\n",
       "    </tr>\n",
       "    <tr>\n",
       "      <th>21</th>\n",
       "      <td>0</td>\n",
       "      <td>21</td>\n",
       "      <td>113.959821</td>\n",
       "    </tr>\n",
       "    <tr>\n",
       "      <th>22</th>\n",
       "      <td>0</td>\n",
       "      <td>22</td>\n",
       "      <td>104.858896</td>\n",
       "    </tr>\n",
       "    <tr>\n",
       "      <th>23</th>\n",
       "      <td>0</td>\n",
       "      <td>23</td>\n",
       "      <td>121.756614</td>\n",
       "    </tr>\n",
       "    <tr>\n",
       "      <th>24</th>\n",
       "      <td>1</td>\n",
       "      <td>0</td>\n",
       "      <td>293.616667</td>\n",
       "    </tr>\n",
       "    <tr>\n",
       "      <th>25</th>\n",
       "      <td>1</td>\n",
       "      <td>1</td>\n",
       "      <td>247.715909</td>\n",
       "    </tr>\n",
       "    <tr>\n",
       "      <th>26</th>\n",
       "      <td>1</td>\n",
       "      <td>2</td>\n",
       "      <td>303.307692</td>\n",
       "    </tr>\n",
       "    <tr>\n",
       "      <th>27</th>\n",
       "      <td>1</td>\n",
       "      <td>3</td>\n",
       "      <td>292.640625</td>\n",
       "    </tr>\n",
       "    <tr>\n",
       "      <th>28</th>\n",
       "      <td>1</td>\n",
       "      <td>4</td>\n",
       "      <td>243.219512</td>\n",
       "    </tr>\n",
       "    <tr>\n",
       "      <th>29</th>\n",
       "      <td>1</td>\n",
       "      <td>5</td>\n",
       "      <td>314.400000</td>\n",
       "    </tr>\n",
       "    <tr>\n",
       "      <th>30</th>\n",
       "      <td>1</td>\n",
       "      <td>6</td>\n",
       "      <td>272.553191</td>\n",
       "    </tr>\n",
       "    <tr>\n",
       "      <th>31</th>\n",
       "      <td>1</td>\n",
       "      <td>7</td>\n",
       "      <td>188.891026</td>\n",
       "    </tr>\n",
       "    <tr>\n",
       "      <th>32</th>\n",
       "      <td>1</td>\n",
       "      <td>8</td>\n",
       "      <td>189.025478</td>\n",
       "    </tr>\n",
       "    <tr>\n",
       "      <th>33</th>\n",
       "      <td>1</td>\n",
       "      <td>9</td>\n",
       "      <td>216.493590</td>\n",
       "    </tr>\n",
       "    <tr>\n",
       "      <th>34</th>\n",
       "      <td>1</td>\n",
       "      <td>10</td>\n",
       "      <td>197.860759</td>\n",
       "    </tr>\n",
       "    <tr>\n",
       "      <th>35</th>\n",
       "      <td>1</td>\n",
       "      <td>11</td>\n",
       "      <td>258.423423</td>\n",
       "    </tr>\n",
       "    <tr>\n",
       "      <th>36</th>\n",
       "      <td>1</td>\n",
       "      <td>12</td>\n",
       "      <td>240.686869</td>\n",
       "    </tr>\n",
       "    <tr>\n",
       "      <th>37</th>\n",
       "      <td>1</td>\n",
       "      <td>13</td>\n",
       "      <td>248.541667</td>\n",
       "    </tr>\n",
       "    <tr>\n",
       "      <th>38</th>\n",
       "      <td>1</td>\n",
       "      <td>14</td>\n",
       "      <td>235.618557</td>\n",
       "    </tr>\n",
       "    <tr>\n",
       "      <th>39</th>\n",
       "      <td>1</td>\n",
       "      <td>15</td>\n",
       "      <td>206.349650</td>\n",
       "    </tr>\n",
       "    <tr>\n",
       "      <th>40</th>\n",
       "      <td>1</td>\n",
       "      <td>16</td>\n",
       "      <td>220.465649</td>\n",
       "    </tr>\n",
       "    <tr>\n",
       "      <th>41</th>\n",
       "      <td>1</td>\n",
       "      <td>17</td>\n",
       "      <td>248.125749</td>\n",
       "    </tr>\n",
       "    <tr>\n",
       "      <th>42</th>\n",
       "      <td>1</td>\n",
       "      <td>18</td>\n",
       "      <td>268.082090</td>\n",
       "    </tr>\n",
       "    <tr>\n",
       "      <th>43</th>\n",
       "      <td>1</td>\n",
       "      <td>19</td>\n",
       "      <td>198.741667</td>\n",
       "    </tr>\n",
       "    <tr>\n",
       "      <th>44</th>\n",
       "      <td>1</td>\n",
       "      <td>20</td>\n",
       "      <td>206.692982</td>\n",
       "    </tr>\n",
       "    <tr>\n",
       "      <th>45</th>\n",
       "      <td>1</td>\n",
       "      <td>21</td>\n",
       "      <td>214.460784</td>\n",
       "    </tr>\n",
       "    <tr>\n",
       "      <th>46</th>\n",
       "      <td>1</td>\n",
       "      <td>22</td>\n",
       "      <td>232.080537</td>\n",
       "    </tr>\n",
       "    <tr>\n",
       "      <th>47</th>\n",
       "      <td>1</td>\n",
       "      <td>23</td>\n",
       "      <td>284.557692</td>\n",
       "    </tr>\n",
       "  </tbody>\n",
       "</table>\n",
       "</div>"
      ],
      "text/plain": [
       "    is_courier_assigned_key  hour  cancellations_time_in_seconds\n",
       "0                         0     0                     111.557047\n",
       "1                         0     1                      98.132420\n",
       "2                         0     2                     106.438819\n",
       "3                         0     3                     104.361607\n",
       "4                         0     4                      90.000000\n",
       "5                         0     5                     121.800000\n",
       "6                         0     6                     124.955224\n",
       "7                         0     7                     112.628049\n",
       "8                         0     8                     120.702179\n",
       "9                         0     9                     120.000000\n",
       "10                        0    10                      74.607843\n",
       "11                        0    11                      77.945455\n",
       "12                        0    12                      93.283019\n",
       "13                        0    13                     103.993243\n",
       "14                        0    14                      98.415094\n",
       "15                        0    15                     114.639535\n",
       "16                        0    16                     129.216783\n",
       "17                        0    17                     111.533040\n",
       "18                        0    18                      98.088608\n",
       "19                        0    19                     112.522124\n",
       "20                        0    20                     110.086957\n",
       "21                        0    21                     113.959821\n",
       "22                        0    22                     104.858896\n",
       "23                        0    23                     121.756614\n",
       "24                        1     0                     293.616667\n",
       "25                        1     1                     247.715909\n",
       "26                        1     2                     303.307692\n",
       "27                        1     3                     292.640625\n",
       "28                        1     4                     243.219512\n",
       "29                        1     5                     314.400000\n",
       "30                        1     6                     272.553191\n",
       "31                        1     7                     188.891026\n",
       "32                        1     8                     189.025478\n",
       "33                        1     9                     216.493590\n",
       "34                        1    10                     197.860759\n",
       "35                        1    11                     258.423423\n",
       "36                        1    12                     240.686869\n",
       "37                        1    13                     248.541667\n",
       "38                        1    14                     235.618557\n",
       "39                        1    15                     206.349650\n",
       "40                        1    16                     220.465649\n",
       "41                        1    17                     248.125749\n",
       "42                        1    18                     268.082090\n",
       "43                        1    19                     198.741667\n",
       "44                        1    20                     206.692982\n",
       "45                        1    21                     214.460784\n",
       "46                        1    22                     232.080537\n",
       "47                        1    23                     284.557692"
      ]
     },
     "execution_count": 30,
     "metadata": {},
     "output_type": "execute_result"
    }
   ],
   "source": [
    "mean_hour"
   ]
  },
  {
   "cell_type": "code",
   "execution_count": 31,
   "metadata": {
    "colab": {
     "base_uri": "https://localhost:8080/",
     "height": 296
    },
    "executionInfo": {
     "elapsed": 586,
     "status": "ok",
     "timestamp": 1650103653576,
     "user": {
      "displayName": "мое имя",
      "userId": "04682591971747797754"
     },
     "user_tz": -180
    },
    "id": "aeuAJzblRjuc",
    "outputId": "f2aa4335-e2d4-4143-db1d-4c1db42a01aa"
   },
   "outputs": [
    {
     "data": {
      "text/plain": [
       "<AxesSubplot:xlabel='hour', ylabel='cancellations_time_in_seconds'>"
      ]
     },
     "execution_count": 31,
     "metadata": {},
     "output_type": "execute_result"
    },
    {
     "data": {
      "image/png": "[encoded data removed]",
      "text/plain": [
       "<Figure size 432x288 with 1 Axes>"
      ]
     },
     "metadata": {
      "needs_background": "light"
     },
     "output_type": "display_data"
    }
   ],
   "source": [
    "sns.lineplot(data=mean_hour, x='hour', y='cancellations_time_in_seconds', hue='is_courier_assigned_key')"
   ]
  },
  {
   "cell_type": "markdown",
   "metadata": {
    "id": "RLNxlcQfxHkV"
   },
   "source": [
    "Посмотрим на количество отмененных заказов в час"
   ]
  },
  {
   "cell_type": "code",
   "execution_count": 32,
   "metadata": {
    "id": "yxTJmmynAWzb"
   },
   "outputs": [],
   "source": [
    "df_1 = df_orders.sort_values('order_datetime').set_index('order_datetime')"
   ]
  },
  {
   "cell_type": "code",
   "execution_count": 33,
   "metadata": {
    "colab": {
     "base_uri": "https://localhost:8080/",
     "height": 309
    },
    "executionInfo": {
     "elapsed": 621,
     "status": "ok",
     "timestamp": 1650104148662,
     "user": {
      "displayName": "мое имя",
      "userId": "04682591971747797754"
     },
     "user_tz": -180
    },
    "id": "_Xziye_BAW4F",
    "outputId": "d669ba7c-2272-48f1-e409-e595ed0bc0fc"
   },
   "outputs": [
    {
     "data": {
      "text/plain": [
       "<AxesSubplot:xlabel='order_datetime'>"
      ]
     },
     "execution_count": 33,
     "metadata": {},
     "output_type": "execute_result"
    },
    {
     "data": {
      "image/png": "[encoded data removed]",
      "text/plain": [
       "<Figure size 432x288 with 1 Axes>"
      ]
     },
     "metadata": {
      "needs_background": "light"
     },
     "output_type": "display_data"
    }
   ],
   "source": [
    "df_1.resample(rule='H').cancellations_time_in_seconds.sum().plot()\n",
    "#самое большое кол-во отмененных заказов приходится на 8 утра"
   ]
  },
  {
   "cell_type": "markdown",
   "metadata": {
    "id": "R1ewAIajplwx"
   },
   "source": [
    "Просмотрев на данные можно сделать вывод, что отмена заказов системой имеет проблемы. Необходимо разобраться по какой причине возник сбой и как его исправить. Так же было обнаружено, что в таблице df_offers у одного номера заказа могут присутстовать несколько ID оффера, который был предложен курьеру по данному заказу. Необходимо уточнить этот вопрос, т.к. у меня складывается впечатление, что здесь тоже присутствует ошибка. Далее стало заметно, что часть информации либо отсутсвует, либо произошел сбой в системе. Не для всех заказов, на которые был назначен курьер присутствуют данные ID оффера курьерам. Необходимо посмотреть более детально, возможно есть какие-то баги при назначении оффера.\n",
    "\n",
    "Пиковое количество отмены заказов приходится на 8 утра, возможно это связано с тем, что люди делают вечером за день до этого импульсивные покупки и на утро жалеют об этом и решают отменить заказ. Можно попробовать скорректировать время работы имея данную информацию, может начать обрабатывать заказы в 9 утра, как вариант. \n",
    "\n",
    "Среднее время отмены заказа с курером больше, чем без него. Есть предположение, что это связано с тем, что покупатели не могу договориться о времени доставки товара и им проще отказаться от него совсем. Необходимо внимательнее рассмотреть этот момент и выяснить почему именно так происходит.\n",
    "\n",
    "\n",
    "\n",
    "\n"
   ]
  }
 ],
 "metadata": {
  "colab": {
   "collapsed_sections": [],
   "name": "0_eda.ipynb\"",
   "provenance": [
    {
     "file_id": "1KIXffjPmKasVHqigSegMN1yUy8NdurKo",
     "timestamp": 1649734131816
    }
   ]
  },
  "hide_input": false,
  "kernelspec": {
   "display_name": "Python 3 (ipykernel)",
   "language": "python",
   "name": "python3"
  },
  "language_info": {
   "codemirror_mode": {
    "name": "ipython",
    "version": 3
   },
   "file_extension": ".py",
   "mimetype": "text/x-python",
   "name": "python",
   "nbconvert_exporter": "python",
   "pygments_lexer": "ipython3",
   "version": "3.9.10"
  },
  "toc": {
   "base_numbering": 1,
   "nav_menu": {},
   "number_sections": true,
   "sideBar": true,
   "skip_h1_title": false,
   "title_cell": "Table of Contents",
   "title_sidebar": "Contents",
   "toc_cell": false,
   "toc_position": {},
   "toc_section_display": true,
   "toc_window_display": true
  },
  "varInspector": {
   "cols": {
    "lenName": 16,
    "lenType": 16,
    "lenVar": 40
   },
   "kernels_config": {
    "python": {
     "delete_cmd_postfix": "",
     "delete_cmd_prefix": "del ",
     "library": "var_list.py",
     "varRefreshCmd": "print(var_dic_list())"
    },
    "r": {
     "delete_cmd_postfix": ") ",
     "delete_cmd_prefix": "rm(",
     "library": "var_list.r",
     "varRefreshCmd": "cat(var_dic_list()) "
    }
   },
   "types_to_exclude": [
    "module",
    "function",
    "builtin_function_or_method",
    "instance",
    "_Feature"
   ],
   "window_display": false
  }
 },
 "nbformat": 4,
 "nbformat_minor": 1
}
